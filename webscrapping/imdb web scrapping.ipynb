{
 "metadata": {
  "language_info": {
   "codemirror_mode": {
    "name": "ipython",
    "version": 3
   },
   "file_extension": ".py",
   "mimetype": "text/x-python",
   "name": "python",
   "nbconvert_exporter": "python",
   "pygments_lexer": "ipython3",
   "version": "3.7.6-final"
  },
  "orig_nbformat": 2,
  "kernelspec": {
   "name": "python_defaultSpec_1597681757016",
   "display_name": "Python 3.7.6 64-bit ('base': conda)"
  }
 },
 "nbformat": 4,
 "nbformat_minor": 2,
 "cells": [
  {
   "cell_type": "code",
   "execution_count": 35,
   "metadata": {
    "tags": []
   },
   "outputs": [
    {
     "output_type": "stream",
     "name": "stdout",
     "text": "\n \n\n\n\n\n\n\n\n\n\n\n<!DOCTYPE html>\n<html\n    xmlns:og=\"http://ogp.me/ns#\"\n    xmlns:fb=\"http://www.facebook.com/2008/fbml\">\n    <head>\n         \n        <meta charset=\"utf-8\">\n        <meta http-equiv=\"X-UA-Compatible\" content=\"IE=edge\">\n\n    <meta name=\"a\n"
    }
   ],
   "source": [
    "#we will request from the server the content of the web page by using get(), and store the server’s response in the variable response and look at the first few lines. We can see that inside response is the html code of the webpage.\n",
    "\n",
    "from requests import get\n",
    "url = 'https://www.imdb.com/title/tt0944947/episodes?season=8'\n",
    "response = get(url)\n",
    "print(response.text[:250])"
   ]
  },
  {
   "cell_type": "code",
   "execution_count": 36,
   "metadata": {},
   "outputs": [],
   "source": [
    "#we’ll parse response.text by creating a BeautifulSoup object, and assign this object to html_soup. The html.parser argument indicates that we want to do the parsing using Python’s built-in HTML parser.\n",
    "\n",
    "from bs4 import BeautifulSoup\n",
    "html_soup = BeautifulSoup(response.text, 'html.parser')"
   ]
  },
  {
   "cell_type": "code",
   "execution_count": 37,
   "metadata": {},
   "outputs": [],
   "source": [
    "episode_containers = html_soup.find_all('div', class_='info')"
   ]
  },
  {
   "cell_type": "code",
   "execution_count": 38,
   "metadata": {},
   "outputs": [
    {
     "output_type": "execute_result",
     "data": {
      "text/plain": "'Winterfell'"
     },
     "metadata": {},
     "execution_count": 38
    }
   ],
   "source": [
    "episode_containers[0].a['title']"
   ]
  },
  {
   "cell_type": "code",
   "execution_count": 39,
   "metadata": {},
   "outputs": [
    {
     "output_type": "execute_result",
     "data": {
      "text/plain": "'1'"
     },
     "metadata": {},
     "execution_count": 39
    }
   ],
   "source": [
    "episode_containers[0].meta['content']"
   ]
  },
  {
   "cell_type": "code",
   "execution_count": 40,
   "metadata": {},
   "outputs": [
    {
     "output_type": "execute_result",
     "data": {
      "text/plain": "'15 Apr. 2019'"
     },
     "metadata": {},
     "execution_count": 40
    }
   ],
   "source": [
    "episode_containers[0].find('div', class_='airdate').text.strip()"
   ]
  },
  {
   "cell_type": "code",
   "execution_count": 45,
   "metadata": {
    "tags": []
   },
   "outputs": [
    {
     "output_type": "execute_result",
     "data": {
      "text/plain": "'7.5'"
     },
     "metadata": {},
     "execution_count": 45
    }
   ],
   "source": [
    "episode_containers[0].find('span', class_='ipl-rating-star__rating').text\n"
   ]
  },
  {
   "cell_type": "code",
   "execution_count": null,
   "metadata": {},
   "outputs": [],
   "source": []
  }
 ]
}